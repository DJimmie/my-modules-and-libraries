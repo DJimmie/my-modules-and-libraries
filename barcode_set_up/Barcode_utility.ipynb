{
 "cells": [
  {
   "cell_type": "code",
   "execution_count": 213,
   "metadata": {
    "ExecuteTime": {
     "end_time": "2021-01-08T16:03:27.783317Z",
     "start_time": "2021-01-08T16:03:27.778330Z"
    }
   },
   "outputs": [],
   "source": [
    "import qrcode\n",
    "import PIL\n",
    "from PIL import Image, ImageDraw, ImageFont\n"
   ]
  },
  {
   "cell_type": "code",
   "execution_count": 214,
   "metadata": {
    "ExecuteTime": {
     "end_time": "2021-01-08T16:03:27.791289Z",
     "start_time": "2021-01-08T16:03:27.785313Z"
    }
   },
   "outputs": [],
   "source": [
    "class Barcode():\n",
    "    \n",
    "    def __init__(self,string):\n",
    "        self.string=string\n",
    "        self.make_barcode()\n",
    "    \n",
    "    def make_barcode(self):\n",
    "        \"\"\"Generate barcode for the UID\"\"\"\n",
    "        barcode=qrcode.make(self.string)\n",
    "        barcode.save('test.png')\n",
    "#         print(f'{Add_New_Items.folder_path}{self.UID}/{self.UID}.png')\n",
    "    "
   ]
  },
  {
   "cell_type": "code",
   "execution_count": 215,
   "metadata": {
    "ExecuteTime": {
     "end_time": "2021-01-08T16:03:27.799240Z",
     "start_time": "2021-01-08T16:03:27.793256Z"
    }
   },
   "outputs": [
    {
     "data": {
      "text/plain": [
       "[\"c'Lever1\",\n",
       " '0',\n",
       " '0',\n",
       " '500.000000',\n",
       " '1.000000',\n",
       " 'MICRO',\n",
       " 'MEASUREMENTS',\n",
       " 'HS-25',\n",
       " '50442327',\n",
       " '0-0.984252IN',\n",
       " 'CAL-PER-USE']"
      ]
     },
     "execution_count": 215,
     "metadata": {},
     "output_type": "execute_result"
    }
   ],
   "source": [
    "string=\"c'Lever1 0 0 500.000000 1.000000 MICRO MEASUREMENTS HS-25 50442327 0-0.984252IN CAL-PER-USE\"\n",
    "string.split()"
   ]
  },
  {
   "cell_type": "code",
   "execution_count": 216,
   "metadata": {
    "ExecuteTime": {
     "end_time": "2021-01-08T16:03:27.806222Z",
     "start_time": "2021-01-08T16:03:27.801235Z"
    }
   },
   "outputs": [
    {
     "data": {
      "text/plain": [
       "'MICRO MEASUREMENTS HS-25 50442327--->0-0.984252IN'"
      ]
     },
     "execution_count": 216,
     "metadata": {},
     "output_type": "execute_result"
    }
   ],
   "source": [
    "model=string.split()[7]\n",
    "make=f'{string.split()[5]} {string.split()[6]} {string.split()[7]} {string.split()[8]}--->{string.split()[-2]}'\n",
    "make"
   ]
  },
  {
   "cell_type": "code",
   "execution_count": 217,
   "metadata": {
    "ExecuteTime": {
     "end_time": "2021-01-08T16:03:27.849147Z",
     "start_time": "2021-01-08T16:03:27.807218Z"
    }
   },
   "outputs": [],
   "source": [
    "x=Barcode(string=string)"
   ]
  },
  {
   "cell_type": "code",
   "execution_count": 218,
   "metadata": {
    "ExecuteTime": {
     "end_time": "2021-01-08T16:03:27.861110Z",
     "start_time": "2021-01-08T16:03:27.851103Z"
    }
   },
   "outputs": [],
   "source": [
    "im=Image.open('test.png')"
   ]
  },
  {
   "cell_type": "code",
   "execution_count": 219,
   "metadata": {
    "ExecuteTime": {
     "end_time": "2021-01-08T16:03:29.170647Z",
     "start_time": "2021-01-08T16:03:27.862110Z"
    }
   },
   "outputs": [],
   "source": [
    "im.show()"
   ]
  },
  {
   "cell_type": "code",
   "execution_count": 220,
   "metadata": {
    "ExecuteTime": {
     "end_time": "2021-01-08T16:03:29.180713Z",
     "start_time": "2021-01-08T16:03:29.174597Z"
    }
   },
   "outputs": [
    {
     "name": "stdout",
     "output_type": "stream",
     "text": [
      "PNG (450, 450) 1\n"
     ]
    }
   ],
   "source": [
    "print (im.format,im.size,im.mode)"
   ]
  },
  {
   "cell_type": "markdown",
   "metadata": {},
   "source": [
    "# Draw Partial Opacity Text"
   ]
  },
  {
   "cell_type": "code",
   "execution_count": 221,
   "metadata": {
    "ExecuteTime": {
     "end_time": "2021-01-08T16:03:30.731068Z",
     "start_time": "2021-01-08T16:03:29.185572Z"
    }
   },
   "outputs": [],
   "source": [
    "# get an image\n",
    "base = Image.open('test.png').convert('RGBA')\n",
    "\n",
    "# make a blank image for the text, initialized to transparent text color\n",
    "txt = Image.new('RGBA', base.size, (255,255,255,0))\n",
    "\n",
    "# get a font\n",
    "fnt = ImageFont.truetype(font=\"arial.ttf\", size=15)\n",
    "# get a drawing context\n",
    "d = ImageDraw.Draw(txt)\n",
    "\n",
    "# draw text, half opacity\n",
    "d.text((10,410), make, font=fnt, fill=(0,0,0,255))\n",
    "# draw text, full opacity\n",
    "d.text((10,10), \"LINEAR DISPLACEMENT TRANSDUCER (LDS)\", font=fnt, fill=(0,0,0,255))\n",
    "\n",
    "out = Image.alpha_composite(base, txt)\n",
    "\n",
    "out.show()"
   ]
  },
  {
   "cell_type": "code",
   "execution_count": null,
   "metadata": {},
   "outputs": [],
   "source": []
  },
  {
   "cell_type": "code",
   "execution_count": 1,
   "metadata": {
    "ExecuteTime": {
     "end_time": "2020-02-07T20:34:01.481598Z",
     "start_time": "2020-02-07T20:34:01.462651Z"
    }
   },
   "outputs": [],
   "source": [
    "import barcode\n",
    "\n",
    "# barcode.PROVIDED_BARCODES\n",
    "\n",
    "# from barcode import generate\n",
    "\n",
    "# name = generate('EAN13', '5901234123457', output='barcode_svg')\n",
    "\n",
    "# name\n",
    "\n",
    "\n",
    "# b=barcode.PROVIDED_BARCODES\n",
    "\n",
    "\n",
    "\n"
   ]
  },
  {
   "cell_type": "code",
   "execution_count": 2,
   "metadata": {
    "ExecuteTime": {
     "end_time": "2020-02-07T20:34:03.526712Z",
     "start_time": "2020-02-07T20:34:03.522726Z"
    }
   },
   "outputs": [],
   "source": [
    "b=['code39']"
   ]
  },
  {
   "cell_type": "code",
   "execution_count": 3,
   "metadata": {
    "ExecuteTime": {
     "end_time": "2020-02-07T20:34:05.039709Z",
     "start_time": "2020-02-07T20:34:05.014776Z"
    }
   },
   "outputs": [
    {
     "name": "stdout",
     "output_type": "stream",
     "text": [
      "code39\n"
     ]
    }
   ],
   "source": [
    "from barcode.writer import ImageWriter\n",
    "for x in b:\n",
    "\n",
    "    # Example with PNG\n",
    "    print(x)\n",
    "    EAN = barcode.get_barcode_class(x)\n",
    "    ean = EAN('5901234123457', writer=ImageWriter())\n",
    "    fullname = ean.save(f'{x}_test')"
   ]
  },
  {
   "cell_type": "code",
   "execution_count": null,
   "metadata": {},
   "outputs": [],
   "source": []
  }
 ],
 "metadata": {
  "kernelspec": {
   "display_name": "Python 3",
   "language": "python",
   "name": "python3"
  },
  "language_info": {
   "codemirror_mode": {
    "name": "ipython",
    "version": 3
   },
   "file_extension": ".py",
   "mimetype": "text/x-python",
   "name": "python",
   "nbconvert_exporter": "python",
   "pygments_lexer": "ipython3",
   "version": "3.7.4"
  },
  "toc": {
   "base_numbering": 1,
   "nav_menu": {},
   "number_sections": true,
   "sideBar": true,
   "skip_h1_title": false,
   "title_cell": "Table of Contents",
   "title_sidebar": "Contents",
   "toc_cell": false,
   "toc_position": {},
   "toc_section_display": true,
   "toc_window_display": false
  },
  "varInspector": {
   "cols": {
    "lenName": 16,
    "lenType": 16,
    "lenVar": 40
   },
   "kernels_config": {
    "python": {
     "delete_cmd_postfix": "",
     "delete_cmd_prefix": "del ",
     "library": "var_list.py",
     "varRefreshCmd": "print(var_dic_list())"
    },
    "r": {
     "delete_cmd_postfix": ") ",
     "delete_cmd_prefix": "rm(",
     "library": "var_list.r",
     "varRefreshCmd": "cat(var_dic_list()) "
    }
   },
   "types_to_exclude": [
    "module",
    "function",
    "builtin_function_or_method",
    "instance",
    "_Feature"
   ],
   "window_display": false
  }
 },
 "nbformat": 4,
 "nbformat_minor": 2
}
